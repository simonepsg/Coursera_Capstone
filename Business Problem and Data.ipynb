{
    "nbformat_minor": 1, 
    "cells": [
        {
            "source": "## Business Problem\n\nDespite London's depiction as a global city full of opportunity for all (Taylor et al., 2010) the quality of living experience is highly spatially segregated (Higgins et al., 2014). This is a result of the borough system that comprises London. In particular, each borough is controlled by different political parties, and hence local tax rates vary, tax expenditure varies and subsequently the quality of facilities and the types of facility can differ. Pair this with the high property prices in London, and the distinct lack of time available for Londoners to visit each prospective area (Jarvis, 2005), and one can see that the pressures of selecting a place to live in London can be intense. \n\nAs such, this project aims firstly to compare neighbourhoods within London based on their facilities and characteristics (i.e. number of and type of restaurants, schools, gyms etc.) using Foursquare data. Subsequently, historic housing prices and the current average house price for each area will be added to the data. This will allow an individual to identify a neighbourhood that they would like to live in based on the quality of living, as proxied by types of facilities, and then compare similar neighbourhoods based on the cost of housing. \n\n\n### Audience\n\nMy target audience for this project is anyone who is looking to rent, buy, move to, or live in London. \n\n", 
            "cell_type": "markdown", 
            "metadata": {}
        }, 
        {
            "source": "## Project Scope\n\nTo narrow the scope of the project I will be focusing on the area of East Dulwich, a highly sought after residential neighbourhood of London. I will first endeavour to find similar neighbourhoods to East Dulwich. Next, I will take the most similar neighbourhoods and compare the historic house prices to better understand the affordability of each neighbourhood.  \n\n\n## Data required\n\nTo tackle this project there are three key pieces of data that I require. \n\n#### 1. Identifying London Neighbourhoods\nIt is first necessary to determine the different neighbourhoods present within London. I will use the list of areas of London found on the wikipedia page here: https://en.wikipedia.org/wiki/List_of_areas_of_London\n\nTo add further granularity to our exploration I will also add details surrounding the political control of the borough and the approximate population of the borough to the dataframe. Whilst this information is at the borough level, rather than the neighbourhood level, it will be useful to the target audience as it can provide insight surrounding council tax, quality of schooling, and potential overcrowding. This information can be found here:https://en.wikipedia.org/wiki/List_of_London_boroughs \n\n\n#### 2. Finding similar Neighbourhoods using Foursquare data\nNext I will require data from Foursquare to be able to identify the facilities that are present within each neighbourhood. This is available via the foursquare API. \n\nI will be using this data to explore, for example, the number of schools available in the area, the number of restaurants etc. \n\n#### 3. Historical and Average House Prices\nFinally, I will require the house prices for each borough which can be found below. \n\nChanges in house prices by borough:\nhttps://www.theweek.co.uk/99093/london-house-prices-which-boroughs-are-falling-and-which-are-on-the-up\n\nAverage house prices over time (by borough):\nhttps://data.london.gov.uk/dataset/average-house-prices", 
            "cell_type": "markdown", 
            "metadata": {}
        }, 
        {
            "execution_count": null, 
            "cell_type": "code", 
            "metadata": {}, 
            "outputs": [], 
            "source": ""
        }
    ], 
    "metadata": {
        "kernelspec": {
            "display_name": "Python 3.6", 
            "name": "python3", 
            "language": "python"
        }, 
        "language_info": {
            "mimetype": "text/x-python", 
            "nbconvert_exporter": "python", 
            "version": "3.6.8", 
            "name": "python", 
            "file_extension": ".py", 
            "pygments_lexer": "ipython3", 
            "codemirror_mode": {
                "version": 3, 
                "name": "ipython"
            }
        }
    }, 
    "nbformat": 4
}