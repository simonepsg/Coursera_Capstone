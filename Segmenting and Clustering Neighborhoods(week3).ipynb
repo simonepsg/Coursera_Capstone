{
    "nbformat_minor": 1, 
    "cells": [
        {
            "source": "## Week 3 Assignment", 
            "cell_type": "markdown", 
            "metadata": {
                "collapsed": true
            }
        }, 
        {
            "source": "### Importing the necessary packages", 
            "cell_type": "markdown", 
            "metadata": {}
        }, 
        {
            "source": "import requests\nimport json\n\nimport matplotlib.pyplot as plt\nimport matplotlib.cm as cm\nimport matplotlib.colors as colors\n\n!pip install beautifulsoup4\nfrom bs4 import BeautifulSoup\n\nimport pandas as pd\nimport numpy as np\n\nprint('Libraries imported.')", 
            "cell_type": "code", 
            "execution_count": 31, 
            "outputs": [
                {
                    "output_type": "stream", 
                    "name": "stdout", 
                    "text": "Requirement already satisfied: beautifulsoup4 in /opt/conda/envs/Python36/lib/python3.6/site-packages (4.7.1)\nRequirement already satisfied: soupsieve>=1.2 in /opt/conda/envs/Python36/lib/python3.6/site-packages (from beautifulsoup4) (1.7.1)\nLibraries imported.\n"
                }
            ], 
            "metadata": {}
        }, 
        {
            "source": "## 1. Scraping the data", 
            "cell_type": "markdown", 
            "metadata": {}
        }, 
        {
            "source": "# Get the text\nreturn_text = requests.get('https://en.wikipedia.org/wiki/List_of_postal_codes_of_Canada:_M').text\n", 
            "cell_type": "code", 
            "execution_count": 33, 
            "outputs": [], 
            "metadata": {}
        }, 
        {
            "source": "## 2. Find and extract the data from the relevant table on the wikipage", 
            "cell_type": "markdown", 
            "metadata": {}
        }, 
        {
            "source": "soup = BeautifulSoup(return_text)\ntable = soup.find('table', {'class': 'wikitable sortable'})\n#print(table)", 
            "cell_type": "code", 
            "execution_count": 46, 
            "outputs": [], 
            "metadata": {}
        }, 
        {
            "source": "## 3. Create a data frame", 
            "cell_type": "markdown", 
            "metadata": {}
        }, 
        {
            "source": "postalcode_rows = []\n\nfor table_row in table.findAll('tr'):\n    columns = table_row.findAll('td')\n    postalcode_row = []\n    for column in columns:\n        postalcode_row.append(column.text)\n    postalcode_rows.append(postalcode_row)\n    \ndf=pd.DataFrame(postalcode_rows, columns=['PostalCode', 'Borough', 'Neighbourhood'])\ndf.head(10)", 
            "cell_type": "code", 
            "execution_count": 36, 
            "outputs": [
                {
                    "output_type": "execute_result", 
                    "metadata": {}, 
                    "data": {
                        "text/html": "<div>\n<style scoped>\n    .dataframe tbody tr th:only-of-type {\n        vertical-align: middle;\n    }\n\n    .dataframe tbody tr th {\n        vertical-align: top;\n    }\n\n    .dataframe thead th {\n        text-align: right;\n    }\n</style>\n<table border=\"1\" class=\"dataframe\">\n  <thead>\n    <tr style=\"text-align: right;\">\n      <th></th>\n      <th>PostalCode</th>\n      <th>Borough</th>\n      <th>Neighbourhood</th>\n    </tr>\n  </thead>\n  <tbody>\n    <tr>\n      <th>0</th>\n      <td>None</td>\n      <td>None</td>\n      <td>None</td>\n    </tr>\n    <tr>\n      <th>1</th>\n      <td>M1A</td>\n      <td>Not assigned</td>\n      <td>Not assigned\\n</td>\n    </tr>\n    <tr>\n      <th>2</th>\n      <td>M2A</td>\n      <td>Not assigned</td>\n      <td>Not assigned\\n</td>\n    </tr>\n    <tr>\n      <th>3</th>\n      <td>M3A</td>\n      <td>North York</td>\n      <td>Parkwoods\\n</td>\n    </tr>\n    <tr>\n      <th>4</th>\n      <td>M4A</td>\n      <td>North York</td>\n      <td>Victoria Village\\n</td>\n    </tr>\n    <tr>\n      <th>5</th>\n      <td>M5A</td>\n      <td>Downtown Toronto</td>\n      <td>Harbourfront\\n</td>\n    </tr>\n    <tr>\n      <th>6</th>\n      <td>M5A</td>\n      <td>Downtown Toronto</td>\n      <td>Regent Park\\n</td>\n    </tr>\n    <tr>\n      <th>7</th>\n      <td>M6A</td>\n      <td>North York</td>\n      <td>Lawrence Heights\\n</td>\n    </tr>\n    <tr>\n      <th>8</th>\n      <td>M6A</td>\n      <td>North York</td>\n      <td>Lawrence Manor\\n</td>\n    </tr>\n    <tr>\n      <th>9</th>\n      <td>M7A</td>\n      <td>Queen's Park</td>\n      <td>Not assigned\\n</td>\n    </tr>\n  </tbody>\n</table>\n</div>", 
                        "text/plain": "  PostalCode           Borough       Neighbourhood\n0       None              None                None\n1        M1A      Not assigned      Not assigned\\n\n2        M2A      Not assigned      Not assigned\\n\n3        M3A        North York         Parkwoods\\n\n4        M4A        North York  Victoria Village\\n\n5        M5A  Downtown Toronto      Harbourfront\\n\n6        M5A  Downtown Toronto       Regent Park\\n\n7        M6A        North York  Lawrence Heights\\n\n8        M6A        North York    Lawrence Manor\\n\n9        M7A      Queen's Park      Not assigned\\n"
                    }, 
                    "execution_count": 36
                }
            ], 
            "metadata": {}
        }, 
        {
            "source": "## 4. Clean up the data by removing '\\n' and the first row which contains 'None'", 
            "cell_type": "markdown", 
            "metadata": {}
        }, 
        {
            "source": "# remove '\\n' from the Neighbourhood column\ndf['Neighbourhood'] = df['Neighbourhood'].replace('\\n','', regex=True)\n\n# drop the first row \ndf.drop(df.index[0], inplace=True)\n\n# remove the boroughs with 'Not Assigned'\ndf = df[df.Borough != 'Not assigned']\n\ndf.head()", 
            "cell_type": "code", 
            "execution_count": 38, 
            "outputs": [
                {
                    "output_type": "execute_result", 
                    "metadata": {}, 
                    "data": {
                        "text/html": "<div>\n<style scoped>\n    .dataframe tbody tr th:only-of-type {\n        vertical-align: middle;\n    }\n\n    .dataframe tbody tr th {\n        vertical-align: top;\n    }\n\n    .dataframe thead th {\n        text-align: right;\n    }\n</style>\n<table border=\"1\" class=\"dataframe\">\n  <thead>\n    <tr style=\"text-align: right;\">\n      <th></th>\n      <th>PostalCode</th>\n      <th>Borough</th>\n      <th>Neighbourhood</th>\n    </tr>\n  </thead>\n  <tbody>\n    <tr>\n      <th>4</th>\n      <td>M4A</td>\n      <td>North York</td>\n      <td>Victoria Village</td>\n    </tr>\n    <tr>\n      <th>5</th>\n      <td>M5A</td>\n      <td>Downtown Toronto</td>\n      <td>Harbourfront</td>\n    </tr>\n    <tr>\n      <th>6</th>\n      <td>M5A</td>\n      <td>Downtown Toronto</td>\n      <td>Regent Park</td>\n    </tr>\n    <tr>\n      <th>7</th>\n      <td>M6A</td>\n      <td>North York</td>\n      <td>Lawrence Heights</td>\n    </tr>\n    <tr>\n      <th>8</th>\n      <td>M6A</td>\n      <td>North York</td>\n      <td>Lawrence Manor</td>\n    </tr>\n  </tbody>\n</table>\n</div>", 
                        "text/plain": "  PostalCode           Borough     Neighbourhood\n4        M4A        North York  Victoria Village\n5        M5A  Downtown Toronto      Harbourfront\n6        M5A  Downtown Toronto       Regent Park\n7        M6A        North York  Lawrence Heights\n8        M6A        North York    Lawrence Manor"
                    }, 
                    "execution_count": 38
                }
            ], 
            "metadata": {}
        }, 
        {
            "source": "## 5. For Neighbourhoods that contain 'Not assigned', assign the borough name", 
            "cell_type": "markdown", 
            "metadata": {}
        }, 
        {
            "source": "df.loc[df['Neighbourhood'] == 'Not assigned', 'Neighbourhood'] = df['Borough']\ndf.head(15)", 
            "cell_type": "code", 
            "execution_count": 39, 
            "outputs": [
                {
                    "output_type": "execute_result", 
                    "metadata": {}, 
                    "data": {
                        "text/html": "<div>\n<style scoped>\n    .dataframe tbody tr th:only-of-type {\n        vertical-align: middle;\n    }\n\n    .dataframe tbody tr th {\n        vertical-align: top;\n    }\n\n    .dataframe thead th {\n        text-align: right;\n    }\n</style>\n<table border=\"1\" class=\"dataframe\">\n  <thead>\n    <tr style=\"text-align: right;\">\n      <th></th>\n      <th>PostalCode</th>\n      <th>Borough</th>\n      <th>Neighbourhood</th>\n    </tr>\n  </thead>\n  <tbody>\n    <tr>\n      <th>4</th>\n      <td>M4A</td>\n      <td>North York</td>\n      <td>Victoria Village</td>\n    </tr>\n    <tr>\n      <th>5</th>\n      <td>M5A</td>\n      <td>Downtown Toronto</td>\n      <td>Harbourfront</td>\n    </tr>\n    <tr>\n      <th>6</th>\n      <td>M5A</td>\n      <td>Downtown Toronto</td>\n      <td>Regent Park</td>\n    </tr>\n    <tr>\n      <th>7</th>\n      <td>M6A</td>\n      <td>North York</td>\n      <td>Lawrence Heights</td>\n    </tr>\n    <tr>\n      <th>8</th>\n      <td>M6A</td>\n      <td>North York</td>\n      <td>Lawrence Manor</td>\n    </tr>\n    <tr>\n      <th>9</th>\n      <td>M7A</td>\n      <td>Queen's Park</td>\n      <td>Queen's Park</td>\n    </tr>\n    <tr>\n      <th>11</th>\n      <td>M9A</td>\n      <td>Etobicoke</td>\n      <td>Islington Avenue</td>\n    </tr>\n    <tr>\n      <th>12</th>\n      <td>M1B</td>\n      <td>Scarborough</td>\n      <td>Rouge</td>\n    </tr>\n    <tr>\n      <th>13</th>\n      <td>M1B</td>\n      <td>Scarborough</td>\n      <td>Malvern</td>\n    </tr>\n    <tr>\n      <th>15</th>\n      <td>M3B</td>\n      <td>North York</td>\n      <td>Don Mills North</td>\n    </tr>\n    <tr>\n      <th>16</th>\n      <td>M4B</td>\n      <td>East York</td>\n      <td>Woodbine Gardens</td>\n    </tr>\n    <tr>\n      <th>17</th>\n      <td>M4B</td>\n      <td>East York</td>\n      <td>Parkview Hill</td>\n    </tr>\n    <tr>\n      <th>18</th>\n      <td>M5B</td>\n      <td>Downtown Toronto</td>\n      <td>Ryerson</td>\n    </tr>\n    <tr>\n      <th>19</th>\n      <td>M5B</td>\n      <td>Downtown Toronto</td>\n      <td>Garden District</td>\n    </tr>\n    <tr>\n      <th>20</th>\n      <td>M6B</td>\n      <td>North York</td>\n      <td>Glencairn</td>\n    </tr>\n  </tbody>\n</table>\n</div>", 
                        "text/plain": "   PostalCode           Borough     Neighbourhood\n4         M4A        North York  Victoria Village\n5         M5A  Downtown Toronto      Harbourfront\n6         M5A  Downtown Toronto       Regent Park\n7         M6A        North York  Lawrence Heights\n8         M6A        North York    Lawrence Manor\n9         M7A      Queen's Park      Queen's Park\n11        M9A         Etobicoke  Islington Avenue\n12        M1B       Scarborough             Rouge\n13        M1B       Scarborough           Malvern\n15        M3B        North York   Don Mills North\n16        M4B         East York  Woodbine Gardens\n17        M4B         East York     Parkview Hill\n18        M5B  Downtown Toronto           Ryerson\n19        M5B  Downtown Toronto   Garden District\n20        M6B        North York         Glencairn"
                    }, 
                    "execution_count": 39
                }
            ], 
            "metadata": {}
        }, 
        {
            "source": "## 6. Group the data by PostalCode", 
            "cell_type": "markdown", 
            "metadata": {}
        }, 
        {
            "source": "df = df.groupby([\"PostalCode\", \"Borough\"], as_index=False).agg(lambda x: \", \".join(x))\ndf.head(15)", 
            "cell_type": "code", 
            "execution_count": 40, 
            "outputs": [
                {
                    "output_type": "execute_result", 
                    "metadata": {}, 
                    "data": {
                        "text/html": "<div>\n<style scoped>\n    .dataframe tbody tr th:only-of-type {\n        vertical-align: middle;\n    }\n\n    .dataframe tbody tr th {\n        vertical-align: top;\n    }\n\n    .dataframe thead th {\n        text-align: right;\n    }\n</style>\n<table border=\"1\" class=\"dataframe\">\n  <thead>\n    <tr style=\"text-align: right;\">\n      <th></th>\n      <th>PostalCode</th>\n      <th>Borough</th>\n      <th>Neighbourhood</th>\n    </tr>\n  </thead>\n  <tbody>\n    <tr>\n      <th>0</th>\n      <td>M1B</td>\n      <td>Scarborough</td>\n      <td>Rouge, Malvern</td>\n    </tr>\n    <tr>\n      <th>1</th>\n      <td>M1C</td>\n      <td>Scarborough</td>\n      <td>Highland Creek, Rouge Hill, Port Union</td>\n    </tr>\n    <tr>\n      <th>2</th>\n      <td>M1E</td>\n      <td>Scarborough</td>\n      <td>Guildwood, Morningside, West Hill</td>\n    </tr>\n    <tr>\n      <th>3</th>\n      <td>M1G</td>\n      <td>Scarborough</td>\n      <td>Woburn</td>\n    </tr>\n    <tr>\n      <th>4</th>\n      <td>M1H</td>\n      <td>Scarborough</td>\n      <td>Cedarbrae</td>\n    </tr>\n    <tr>\n      <th>5</th>\n      <td>M1J</td>\n      <td>Scarborough</td>\n      <td>Scarborough Village</td>\n    </tr>\n    <tr>\n      <th>6</th>\n      <td>M1K</td>\n      <td>Scarborough</td>\n      <td>East Birchmount Park, Ionview, Kennedy Park</td>\n    </tr>\n    <tr>\n      <th>7</th>\n      <td>M1L</td>\n      <td>Scarborough</td>\n      <td>Clairlea, Golden Mile, Oakridge</td>\n    </tr>\n    <tr>\n      <th>8</th>\n      <td>M1M</td>\n      <td>Scarborough</td>\n      <td>Cliffcrest, Cliffside, Scarborough Village West</td>\n    </tr>\n    <tr>\n      <th>9</th>\n      <td>M1N</td>\n      <td>Scarborough</td>\n      <td>Birch Cliff, Cliffside West</td>\n    </tr>\n    <tr>\n      <th>10</th>\n      <td>M1P</td>\n      <td>Scarborough</td>\n      <td>Dorset Park, Scarborough Town Centre, Wexford ...</td>\n    </tr>\n    <tr>\n      <th>11</th>\n      <td>M1R</td>\n      <td>Scarborough</td>\n      <td>Maryvale, Wexford</td>\n    </tr>\n    <tr>\n      <th>12</th>\n      <td>M1S</td>\n      <td>Scarborough</td>\n      <td>Agincourt</td>\n    </tr>\n    <tr>\n      <th>13</th>\n      <td>M1T</td>\n      <td>Scarborough</td>\n      <td>Clarks Corners, Sullivan, Tam O'Shanter</td>\n    </tr>\n    <tr>\n      <th>14</th>\n      <td>M1V</td>\n      <td>Scarborough</td>\n      <td>Agincourt North, L'Amoreaux East, Milliken, St...</td>\n    </tr>\n  </tbody>\n</table>\n</div>", 
                        "text/plain": "   PostalCode      Borough                                      Neighbourhood\n0         M1B  Scarborough                                     Rouge, Malvern\n1         M1C  Scarborough             Highland Creek, Rouge Hill, Port Union\n2         M1E  Scarborough                  Guildwood, Morningside, West Hill\n3         M1G  Scarborough                                             Woburn\n4         M1H  Scarborough                                          Cedarbrae\n5         M1J  Scarborough                                Scarborough Village\n6         M1K  Scarborough        East Birchmount Park, Ionview, Kennedy Park\n7         M1L  Scarborough                    Clairlea, Golden Mile, Oakridge\n8         M1M  Scarborough    Cliffcrest, Cliffside, Scarborough Village West\n9         M1N  Scarborough                        Birch Cliff, Cliffside West\n10        M1P  Scarborough  Dorset Park, Scarborough Town Centre, Wexford ...\n11        M1R  Scarborough                                  Maryvale, Wexford\n12        M1S  Scarborough                                          Agincourt\n13        M1T  Scarborough            Clarks Corners, Sullivan, Tam O'Shanter\n14        M1V  Scarborough  Agincourt North, L'Amoreaux East, Milliken, St..."
                    }, 
                    "execution_count": 40
                }
            ], 
            "metadata": {}
        }, 
        {
            "source": "df.shape", 
            "cell_type": "code", 
            "execution_count": 41, 
            "outputs": [
                {
                    "output_type": "execute_result", 
                    "metadata": {}, 
                    "data": {
                        "text/plain": "(102, 3)"
                    }, 
                    "execution_count": 41
                }
            ], 
            "metadata": {}
        }, 
        {
            "source": "## Part 2 - Latitude and Longitude for each Neighbourhood", 
            "cell_type": "markdown", 
            "metadata": {}
        }, 
        {
            "source": "# read the csv file into a dataframe\n\nurl='https://cocl.us/Geospatial_data'\ndf_coord=pd.read_csv(url)\ndf_coord.columns = ['PostalCode', 'Latitude', 'Longitude']\ndf_coord.head()", 
            "cell_type": "code", 
            "execution_count": 42, 
            "outputs": [
                {
                    "output_type": "execute_result", 
                    "metadata": {}, 
                    "data": {
                        "text/html": "<div>\n<style scoped>\n    .dataframe tbody tr th:only-of-type {\n        vertical-align: middle;\n    }\n\n    .dataframe tbody tr th {\n        vertical-align: top;\n    }\n\n    .dataframe thead th {\n        text-align: right;\n    }\n</style>\n<table border=\"1\" class=\"dataframe\">\n  <thead>\n    <tr style=\"text-align: right;\">\n      <th></th>\n      <th>PostalCode</th>\n      <th>Latitude</th>\n      <th>Longitude</th>\n    </tr>\n  </thead>\n  <tbody>\n    <tr>\n      <th>0</th>\n      <td>M1B</td>\n      <td>43.806686</td>\n      <td>-79.194353</td>\n    </tr>\n    <tr>\n      <th>1</th>\n      <td>M1C</td>\n      <td>43.784535</td>\n      <td>-79.160497</td>\n    </tr>\n    <tr>\n      <th>2</th>\n      <td>M1E</td>\n      <td>43.763573</td>\n      <td>-79.188711</td>\n    </tr>\n    <tr>\n      <th>3</th>\n      <td>M1G</td>\n      <td>43.770992</td>\n      <td>-79.216917</td>\n    </tr>\n    <tr>\n      <th>4</th>\n      <td>M1H</td>\n      <td>43.773136</td>\n      <td>-79.239476</td>\n    </tr>\n  </tbody>\n</table>\n</div>", 
                        "text/plain": "  PostalCode   Latitude  Longitude\n0        M1B  43.806686 -79.194353\n1        M1C  43.784535 -79.160497\n2        M1E  43.763573 -79.188711\n3        M1G  43.770992 -79.216917\n4        M1H  43.773136 -79.239476"
                    }, 
                    "execution_count": 42
                }
            ], 
            "metadata": {}
        }, 
        {
            "source": "# combine the co-ordinates dataframe with the main dataframe\n\ndf_loc = pd.merge(df, df_coord, on=['PostalCode'], how='inner')\ndf_loc.head()", 
            "cell_type": "code", 
            "execution_count": 44, 
            "outputs": [
                {
                    "output_type": "execute_result", 
                    "metadata": {}, 
                    "data": {
                        "text/html": "<div>\n<style scoped>\n    .dataframe tbody tr th:only-of-type {\n        vertical-align: middle;\n    }\n\n    .dataframe tbody tr th {\n        vertical-align: top;\n    }\n\n    .dataframe thead th {\n        text-align: right;\n    }\n</style>\n<table border=\"1\" class=\"dataframe\">\n  <thead>\n    <tr style=\"text-align: right;\">\n      <th></th>\n      <th>PostalCode</th>\n      <th>Borough</th>\n      <th>Neighbourhood</th>\n      <th>Latitude</th>\n      <th>Longitude</th>\n    </tr>\n  </thead>\n  <tbody>\n    <tr>\n      <th>0</th>\n      <td>M1B</td>\n      <td>Scarborough</td>\n      <td>Rouge, Malvern</td>\n      <td>43.806686</td>\n      <td>-79.194353</td>\n    </tr>\n    <tr>\n      <th>1</th>\n      <td>M1C</td>\n      <td>Scarborough</td>\n      <td>Highland Creek, Rouge Hill, Port Union</td>\n      <td>43.784535</td>\n      <td>-79.160497</td>\n    </tr>\n    <tr>\n      <th>2</th>\n      <td>M1E</td>\n      <td>Scarborough</td>\n      <td>Guildwood, Morningside, West Hill</td>\n      <td>43.763573</td>\n      <td>-79.188711</td>\n    </tr>\n    <tr>\n      <th>3</th>\n      <td>M1G</td>\n      <td>Scarborough</td>\n      <td>Woburn</td>\n      <td>43.770992</td>\n      <td>-79.216917</td>\n    </tr>\n    <tr>\n      <th>4</th>\n      <td>M1H</td>\n      <td>Scarborough</td>\n      <td>Cedarbrae</td>\n      <td>43.773136</td>\n      <td>-79.239476</td>\n    </tr>\n  </tbody>\n</table>\n</div>", 
                        "text/plain": "  PostalCode      Borough                           Neighbourhood   Latitude  \\\n0        M1B  Scarborough                          Rouge, Malvern  43.806686   \n1        M1C  Scarborough  Highland Creek, Rouge Hill, Port Union  43.784535   \n2        M1E  Scarborough       Guildwood, Morningside, West Hill  43.763573   \n3        M1G  Scarborough                                  Woburn  43.770992   \n4        M1H  Scarborough                               Cedarbrae  43.773136   \n\n   Longitude  \n0 -79.194353  \n1 -79.160497  \n2 -79.188711  \n3 -79.216917  \n4 -79.239476  "
                    }, 
                    "execution_count": 44
                }
            ], 
            "metadata": {}
        }, 
        {
            "source": "df_loc.shape", 
            "cell_type": "code", 
            "execution_count": 45, 
            "outputs": [
                {
                    "output_type": "execute_result", 
                    "metadata": {}, 
                    "data": {
                        "text/plain": "(102, 5)"
                    }, 
                    "execution_count": 45
                }
            ], 
            "metadata": {}
        }, 
        {
            "source": "", 
            "cell_type": "code", 
            "execution_count": null, 
            "outputs": [], 
            "metadata": {}
        }
    ], 
    "nbformat": 4, 
    "metadata": {
        "kernelspec": {
            "display_name": "Python 3.6", 
            "name": "python3", 
            "language": "python"
        }, 
        "language_info": {
            "mimetype": "text/x-python", 
            "nbconvert_exporter": "python", 
            "version": "3.6.8", 
            "name": "python", 
            "pygments_lexer": "ipython3", 
            "file_extension": ".py", 
            "codemirror_mode": {
                "version": 3, 
                "name": "ipython"
            }
        }
    }
}